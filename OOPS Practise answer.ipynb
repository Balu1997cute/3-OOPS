{
 "cells": [
  {
   "cell_type": "markdown",
   "metadata": {},
   "source": [
    "# Requirement from a client who is from civil department, the client needs is calculate a area of Circle, Rectangle, Square.\n",
    "\n",
    "# Create a Class which will find the area of circle, rectengle, square."
   ]
  },
  {
   "cell_type": "markdown",
   "metadata": {},
   "source": [
    "### Formula for Circle= pi(3.14)* r* r\n",
    "### Formula for Rectangle= length * width\n",
    "### Formula for Square= (a)^4= aXaXaXa"
   ]
  },
  {
   "cell_type": "code",
   "execution_count": 1,
   "metadata": {},
   "outputs": [],
   "source": [
    "def twoseg():\n",
    "    pi=3.14\n",
    "    r=int(input('Enter the circle of radius:'))\n",
    "    Area=pi*r*r\n",
    "    circle='Area of the circle is:',Area\n",
    "    print('Area of the circle is:',Area)\n",
    "    return circle"
   ]
  },
  {
   "cell_type": "code",
   "execution_count": 2,
   "metadata": {},
   "outputs": [
    {
     "name": "stdout",
     "output_type": "stream",
     "text": [
      "Enter the circle of radius:2\n",
      "Area of the circle is: 12.56\n"
     ]
    },
    {
     "data": {
      "text/plain": [
       "('Area of the circle is:', 12.56)"
      ]
     },
     "execution_count": 2,
     "metadata": {},
     "output_type": "execute_result"
    }
   ],
   "source": [
    "twoseg()"
   ]
  },
  {
   "cell_type": "code",
   "execution_count": 3,
   "metadata": {},
   "outputs": [],
   "source": [
    "def twoseg():\n",
    "    pi=3.14\n",
    "    r=int(input('Enter the circle of radius:'))\n",
    "    Area=pi*r*r\n",
    "    print('Area of the circle is:',Area)\n",
    "   "
   ]
  },
  {
   "cell_type": "code",
   "execution_count": 4,
   "metadata": {},
   "outputs": [
    {
     "name": "stdout",
     "output_type": "stream",
     "text": [
      "Enter the circle of radius:2\n",
      "Area of the circle is: 12.56\n"
     ]
    }
   ],
   "source": [
    "twoseg()"
   ]
  },
  {
   "cell_type": "code",
   "execution_count": 5,
   "metadata": {},
   "outputs": [],
   "source": [
    "def threeseg():\n",
    "    l=int(input('Enter the length:'))\n",
    "    b=int(input('Enter the breadth:'))\n",
    "    Area=l*b\n",
    "    print('Area of the rectangle is:',Area)"
   ]
  },
  {
   "cell_type": "code",
   "execution_count": 6,
   "metadata": {},
   "outputs": [
    {
     "name": "stdout",
     "output_type": "stream",
     "text": [
      "Enter the length:2\n",
      "Enter the breadth:4\n",
      "Area of the rectangle is: 8\n"
     ]
    }
   ],
   "source": [
    "threeseg()"
   ]
  },
  {
   "cell_type": "code",
   "execution_count": 7,
   "metadata": {},
   "outputs": [],
   "source": [
    "def fourseg():\n",
    "    a=int(input('Enter the length:'))\n",
    "    Area=a*a*a*a\n",
    "    print('Area of the square is:',Area)"
   ]
  },
  {
   "cell_type": "code",
   "execution_count": 8,
   "metadata": {},
   "outputs": [
    {
     "name": "stdout",
     "output_type": "stream",
     "text": [
      "Enter the length:2\n",
      "Area of the square is: 16\n"
     ]
    }
   ],
   "source": [
    "fourseg()"
   ]
  },
  {
   "cell_type": "code",
   "execution_count": 9,
   "metadata": {},
   "outputs": [],
   "source": [
    "class Formula():\n",
    "    def Circle():\n",
    "        pi=3.14\n",
    "        r=int(input('Enter the circle of radius:'))\n",
    "        Area=pi*r*r\n",
    "        print('Area of the circle is:',Area)\n",
    "\n",
    "    def Rectangle():\n",
    "        l=int(input('Enter the length:'))\n",
    "        b=int(input('Enter the breadth:'))\n",
    "        Area=l*b\n",
    "        print('Area of the rectangle is:',Area)  \n",
    "\n",
    "    def Square():\n",
    "        a=int(input('Enter the length:'))\n",
    "        Area=a*a*a*a\n",
    "        print('Area of the square is:',Area)"
   ]
  },
  {
   "cell_type": "code",
   "execution_count": 10,
   "metadata": {},
   "outputs": [
    {
     "name": "stdout",
     "output_type": "stream",
     "text": [
      "Enter the circle of radius:2\n",
      "Area of the circle is: 12.56\n"
     ]
    }
   ],
   "source": [
    "Formula.Circle()"
   ]
  },
  {
   "cell_type": "code",
   "execution_count": 11,
   "metadata": {},
   "outputs": [
    {
     "name": "stdout",
     "output_type": "stream",
     "text": [
      "Enter the length:2\n",
      "Enter the breadth:4\n",
      "Area of the rectangle is: 8\n"
     ]
    }
   ],
   "source": [
    "Formula.Rectangle()"
   ]
  },
  {
   "cell_type": "code",
   "execution_count": 12,
   "metadata": {},
   "outputs": [
    {
     "name": "stdout",
     "output_type": "stream",
     "text": [
      "Enter the length:12\n",
      "Area of the square is: 20736\n"
     ]
    }
   ],
   "source": [
    "Formula.Square()"
   ]
  },
  {
   "cell_type": "code",
   "execution_count": 13,
   "metadata": {},
   "outputs": [],
   "source": [
    "class Area():\n",
    "    def Circle():\n",
    "        pi=3.14\n",
    "        r=int(input('Enter the circle of radius:'))\n",
    "        Area=pi*r*r\n",
    "        circle='Area of the circle is:',Area\n",
    "        print('Area of the circle is:',Area)\n",
    "        return circle\n",
    "\n",
    "    def Rectangle():\n",
    "        l=int(input('Enter the length:'))\n",
    "        b=int(input('Enter the breadth:'))\n",
    "        Area=l*b\n",
    "        rectangle='Area of the rectangle is:',Area\n",
    "        print('Area of the rectangle is:',Area)\n",
    "        return rectangle   \n",
    "\n",
    "    def Square():\n",
    "        a=int(input('Enter the length:'))\n",
    "        Area=a*a*a*a\n",
    "        square='Area of the square is:',Area\n",
    "        print('Area of the square is:',Area)\n",
    "        return square"
   ]
  },
  {
   "cell_type": "code",
   "execution_count": 14,
   "metadata": {},
   "outputs": [
    {
     "name": "stdout",
     "output_type": "stream",
     "text": [
      "Enter the circle of radius:2\n",
      "Area of the circle is: 12.56\n"
     ]
    },
    {
     "data": {
      "text/plain": [
       "('Area of the circle is:', 12.56)"
      ]
     },
     "execution_count": 14,
     "metadata": {},
     "output_type": "execute_result"
    }
   ],
   "source": [
    "Area.Circle()"
   ]
  },
  {
   "cell_type": "code",
   "execution_count": 15,
   "metadata": {},
   "outputs": [
    {
     "name": "stdout",
     "output_type": "stream",
     "text": [
      "Enter the length:2\n",
      "Enter the breadth:4\n",
      "Area of the rectangle is: 8\n"
     ]
    },
    {
     "data": {
      "text/plain": [
       "('Area of the rectangle is:', 8)"
      ]
     },
     "execution_count": 15,
     "metadata": {},
     "output_type": "execute_result"
    }
   ],
   "source": [
    "Area.Rectangle()"
   ]
  },
  {
   "cell_type": "code",
   "execution_count": 16,
   "metadata": {},
   "outputs": [
    {
     "name": "stdout",
     "output_type": "stream",
     "text": [
      "Enter the length:12\n",
      "Area of the square is: 20736\n"
     ]
    },
    {
     "data": {
      "text/plain": [
       "('Area of the square is:', 20736)"
      ]
     },
     "execution_count": 16,
     "metadata": {},
     "output_type": "execute_result"
    }
   ],
   "source": [
    "Area.Square()"
   ]
  },
  {
   "cell_type": "code",
   "execution_count": null,
   "metadata": {},
   "outputs": [],
   "source": []
  }
 ],
 "metadata": {
  "kernelspec": {
   "display_name": "Python 3",
   "language": "python",
   "name": "python3"
  },
  "language_info": {
   "codemirror_mode": {
    "name": "ipython",
    "version": 3
   },
   "file_extension": ".py",
   "mimetype": "text/x-python",
   "name": "python",
   "nbconvert_exporter": "python",
   "pygments_lexer": "ipython3",
   "version": "3.7.4"
  }
 },
 "nbformat": 4,
 "nbformat_minor": 5
}
