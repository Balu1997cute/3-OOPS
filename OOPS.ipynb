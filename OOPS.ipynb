{
 "cells": [
  {
   "cell_type": "code",
   "execution_count": 1,
   "metadata": {},
   "outputs": [
    {
     "name": "stdout",
     "output_type": "stream",
     "text": [
      "Enter the Age:5\n",
      "adult\n"
     ]
    }
   ],
   "source": [
    "wave=int(input(\"Enter the Age:\"))\n",
    "if(wave<18):\n",
    "    print('adult')\n",
    "else:\n",
    "    print('citizen') "
   ]
  },
  {
   "cell_type": "code",
   "execution_count": 2,
   "metadata": {},
   "outputs": [],
   "source": [
    "def twoseg():\n",
    "    wave=int(input(\"Enter the Age:\"))\n",
    "    if(wave<18):\n",
    "        answer='adult'\n",
    "        print('adult')\n",
    "    else:\n",
    "        answer='citizen'\n",
    "        print('citizen') \n",
    "    return answer"
   ]
  },
  {
   "cell_type": "code",
   "execution_count": 3,
   "metadata": {},
   "outputs": [
    {
     "name": "stdout",
     "output_type": "stream",
     "text": [
      "Enter the Age:25\n",
      "citizen\n"
     ]
    },
    {
     "data": {
      "text/plain": [
       "'citizen'"
      ]
     },
     "execution_count": 3,
     "metadata": {},
     "output_type": "execute_result"
    }
   ],
   "source": [
    "twoseg()"
   ]
  },
  {
   "cell_type": "code",
   "execution_count": 4,
   "metadata": {},
   "outputs": [
    {
     "name": "stdout",
     "output_type": "stream",
     "text": [
      "Enter the Age:35\n",
      "citizen\n"
     ]
    }
   ],
   "source": [
    "ans=twoseg()"
   ]
  },
  {
   "cell_type": "code",
   "execution_count": 5,
   "metadata": {},
   "outputs": [],
   "source": [
    "def twoseg():\n",
    "    wave=int(input(\"Enter the Age:\"))\n",
    "    if(wave<18):\n",
    "        print('adult')\n",
    "    else:\n",
    "        print('citizen') "
   ]
  },
  {
   "cell_type": "code",
   "execution_count": 6,
   "metadata": {},
   "outputs": [
    {
     "name": "stdout",
     "output_type": "stream",
     "text": [
      "Enter the Age:22\n",
      "citizen\n"
     ]
    }
   ],
   "source": [
    "twoseg()"
   ]
  },
  {
   "cell_type": "code",
   "execution_count": 7,
   "metadata": {},
   "outputs": [
    {
     "name": "stdout",
     "output_type": "stream",
     "text": [
      "Enter the Age:11\n",
      "adult\n"
     ]
    }
   ],
   "source": [
    "an=twoseg()"
   ]
  },
  {
   "cell_type": "code",
   "execution_count": 8,
   "metadata": {},
   "outputs": [],
   "source": [
    "def passwordcheck():\n",
    "    wave=(input(\"Enter the password:\"))\n",
    "    if(wave=='Hope@123'):\n",
    "        passwordcheck='correct'\n",
    "        print('welcome')\n",
    "    else:\n",
    "        passwordcheck='incorrect'\n",
    "        print('sorry the passwork is incorrect,trg again') \n",
    "    return passwordcheck"
   ]
  },
  {
   "cell_type": "code",
   "execution_count": 9,
   "metadata": {},
   "outputs": [
    {
     "name": "stdout",
     "output_type": "stream",
     "text": [
      "Enter the password:dfd45\n",
      "sorry the passwork is incorrect,trg again\n"
     ]
    },
    {
     "data": {
      "text/plain": [
       "'incorrect'"
      ]
     },
     "execution_count": 9,
     "metadata": {},
     "output_type": "execute_result"
    }
   ],
   "source": [
    "passwordcheck()"
   ]
  },
  {
   "cell_type": "code",
   "execution_count": 10,
   "metadata": {},
   "outputs": [
    {
     "name": "stdout",
     "output_type": "stream",
     "text": [
      "Enter the password:dfdd\n",
      "sorry the passwork is incorrect,trg again\n"
     ]
    }
   ],
   "source": [
    "check= passwordcheck()"
   ]
  },
  {
   "cell_type": "code",
   "execution_count": 11,
   "metadata": {},
   "outputs": [
    {
     "data": {
      "text/plain": [
       "'incorrect'"
      ]
     },
     "execution_count": 11,
     "metadata": {},
     "output_type": "execute_result"
    }
   ],
   "source": [
    "check"
   ]
  },
  {
   "cell_type": "code",
   "execution_count": 12,
   "metadata": {},
   "outputs": [
    {
     "name": "stdout",
     "output_type": "stream",
     "text": [
      "Enter the password:dfg4\n",
      "sorry the passwork is incorrect,trg again\n"
     ]
    },
    {
     "data": {
      "text/plain": [
       "'incorrect'"
      ]
     },
     "execution_count": 12,
     "metadata": {},
     "output_type": "execute_result"
    }
   ],
   "source": [
    "passwordcheck()"
   ]
  },
  {
   "cell_type": "code",
   "execution_count": 13,
   "metadata": {},
   "outputs": [],
   "source": [
    "def form():\n",
    "    wave=int(input(\"Enter the Age:\"))\n",
    "    if(wave<=18):\n",
    "        segment='Teen'\n",
    "        print('Teen')\n",
    "    elif(wave<39):\n",
    "        segment='adult'\n",
    "        print('adult')\n",
    "    elif(wave<60):\n",
    "        segment='citizen'\n",
    "        print('citizen')\n",
    "    else:\n",
    "        segment='senior citizen'\n",
    "        print('senior citizen') \n",
    "    return segment"
   ]
  },
  {
   "cell_type": "code",
   "execution_count": 14,
   "metadata": {},
   "outputs": [
    {
     "name": "stdout",
     "output_type": "stream",
     "text": [
      "Enter the Age:25\n",
      "adult\n"
     ]
    },
    {
     "data": {
      "text/plain": [
       "'adult'"
      ]
     },
     "execution_count": 14,
     "metadata": {},
     "output_type": "execute_result"
    }
   ],
   "source": [
    "form()"
   ]
  },
  {
   "cell_type": "code",
   "execution_count": 15,
   "metadata": {},
   "outputs": [],
   "source": [
    "class batch2():\n",
    "    def form():\n",
    "        wave=int(input(\"Enter the Age:\"))\n",
    "        if(wave<=18):\n",
    "            segment='Teen'\n",
    "            print('Teen')\n",
    "        elif(wave<39):\n",
    "            segment='adult'\n",
    "            print('adult')\n",
    "        elif(wave<60):\n",
    "            segment='citizen'\n",
    "            print('citizen')\n",
    "        else:\n",
    "            segment='senior citizen'\n",
    "            print('senior citizen') \n",
    "        return segment\n",
    "    \n",
    "    def passwordcheck():\n",
    "        wave=input(\"Enter the password:\")\n",
    "        if(wave=='Hope@123'):\n",
    "            passwordcheck='correct'\n",
    "            print('welcome')\n",
    "        else:\n",
    "            passwordcheck='incorrect'\n",
    "            print('sorry the passwork is incorrect,trg again') \n",
    "        return passwordcheck\n",
    "    \n",
    "    def twoseg():\n",
    "        wave=int(input(\"Enter the Age:\"))\n",
    "        if(wave<18):\n",
    "            answer='adult'\n",
    "            print('adult')\n",
    "        else:\n",
    "            answer='citizen'\n",
    "            print('citizen') \n",
    "        return answer"
   ]
  },
  {
   "cell_type": "code",
   "execution_count": 16,
   "metadata": {},
   "outputs": [
    {
     "name": "stdout",
     "output_type": "stream",
     "text": [
      "Enter the password:fdtt\n",
      "sorry the passwork is incorrect,trg again\n"
     ]
    },
    {
     "data": {
      "text/plain": [
       "'incorrect'"
      ]
     },
     "execution_count": 16,
     "metadata": {},
     "output_type": "execute_result"
    }
   ],
   "source": [
    "batch2.passwordcheck()"
   ]
  },
  {
   "cell_type": "code",
   "execution_count": 17,
   "metadata": {},
   "outputs": [
    {
     "name": "stdout",
     "output_type": "stream",
     "text": [
      "Enter the Age:26\n",
      "citizen\n"
     ]
    },
    {
     "data": {
      "text/plain": [
       "'citizen'"
      ]
     },
     "execution_count": 17,
     "metadata": {},
     "output_type": "execute_result"
    }
   ],
   "source": [
    "batch2.twoseg()"
   ]
  },
  {
   "cell_type": "code",
   "execution_count": 18,
   "metadata": {},
   "outputs": [
    {
     "name": "stdout",
     "output_type": "stream",
     "text": [
      "Enter the Age:24\n",
      "adult\n"
     ]
    },
    {
     "data": {
      "text/plain": [
       "'adult'"
      ]
     },
     "execution_count": 18,
     "metadata": {},
     "output_type": "execute_result"
    }
   ],
   "source": [
    "batch2.form()"
   ]
  },
  {
   "cell_type": "code",
   "execution_count": 19,
   "metadata": {},
   "outputs": [
    {
     "name": "stdout",
     "output_type": "stream",
     "text": [
      "Enter the Age:22\n",
      "adult\n"
     ]
    },
    {
     "data": {
      "text/plain": [
       "'adult'"
      ]
     },
     "execution_count": 19,
     "metadata": {},
     "output_type": "execute_result"
    }
   ],
   "source": [
    "batch2.form()"
   ]
  },
  {
   "cell_type": "code",
   "execution_count": 20,
   "metadata": {},
   "outputs": [
    {
     "name": "stdout",
     "output_type": "stream",
     "text": [
      "Enter the password:cyhdgd\n",
      "sorry the passwork is incorrect,trg again\n"
     ]
    },
    {
     "data": {
      "text/plain": [
       "'incorrect'"
      ]
     },
     "execution_count": 20,
     "metadata": {},
     "output_type": "execute_result"
    }
   ],
   "source": [
    "batch2.passwordcheck()"
   ]
  },
  {
   "cell_type": "code",
   "execution_count": 21,
   "metadata": {},
   "outputs": [],
   "source": [
    "class Calculator():\n",
    "    \n",
    "    def addition(a,b):\n",
    "        addition=a+b\n",
    "        return addition\n",
    "    def sub(a,b):\n",
    "        sub=a-b\n",
    "        return sub\n",
    "    def mul(a,b):\n",
    "        mul=a*b\n",
    "        return mul\n",
    "    def div(a,b):\n",
    "        div=a/b\n",
    "        return div"
   ]
  },
  {
   "cell_type": "code",
   "execution_count": 22,
   "metadata": {},
   "outputs": [
    {
     "name": "stdout",
     "output_type": "stream",
     "text": [
      "addition: 2\n",
      "sub: 0\n",
      "mul: 1\n",
      "div: 1.0\n"
     ]
    }
   ],
   "source": [
    "result1=Calculator.addition(1,1)\n",
    "print(\"addition:\", result1)\n",
    "result2=Calculator.sub(1,1)\n",
    "print(\"sub:\", result2)\n",
    "result3=Calculator.mul(1,1)\n",
    "print(\"mul:\", result3)\n",
    "result4=Calculator.div(1,1)\n",
    "print(\"div:\", result4)"
   ]
  },
  {
   "cell_type": "code",
   "execution_count": 23,
   "metadata": {},
   "outputs": [],
   "source": [
    "l=3\n",
    "b=35\n",
    "Area=l*b"
   ]
  },
  {
   "cell_type": "code",
   "execution_count": 24,
   "metadata": {},
   "outputs": [
    {
     "name": "stdout",
     "output_type": "stream",
     "text": [
      "area of the rectangle: 105\n"
     ]
    }
   ],
   "source": [
    "print('area of the rectangle:',Area)"
   ]
  },
  {
   "cell_type": "code",
   "execution_count": 25,
   "metadata": {},
   "outputs": [],
   "source": [
    "pi=3.14\n",
    "r=2\n",
    "Area=pi*r*r"
   ]
  },
  {
   "cell_type": "code",
   "execution_count": 26,
   "metadata": {},
   "outputs": [
    {
     "name": "stdout",
     "output_type": "stream",
     "text": [
      "area of the circle: 12.56\n"
     ]
    }
   ],
   "source": [
    "print('area of the circle:',Area)"
   ]
  },
  {
   "cell_type": "code",
   "execution_count": 27,
   "metadata": {},
   "outputs": [],
   "source": [
    "a=12\n",
    "Area=a*a*a*a"
   ]
  },
  {
   "cell_type": "code",
   "execution_count": 28,
   "metadata": {},
   "outputs": [
    {
     "name": "stdout",
     "output_type": "stream",
     "text": [
      "area of the Square: 20736\n"
     ]
    }
   ],
   "source": [
    "print('area of the Square:',Area)"
   ]
  },
  {
   "cell_type": "code",
   "execution_count": 29,
   "metadata": {},
   "outputs": [],
   "source": [
    "a=12\n",
    "Area=(a)^4"
   ]
  },
  {
   "cell_type": "code",
   "execution_count": 30,
   "metadata": {},
   "outputs": [
    {
     "name": "stdout",
     "output_type": "stream",
     "text": [
      "area of the Square: 8\n"
     ]
    }
   ],
   "source": [
    "print('area of the Square:',Area)"
   ]
  },
  {
   "cell_type": "code",
   "execution_count": 31,
   "metadata": {},
   "outputs": [],
   "source": [
    "class Mall():\n",
    "    \n",
    "    def addition():\n",
    "        num1=int(input(\"enter the number1:\"))\n",
    "        num2=int(input(\"enter the number2:\"))\n",
    "        addition=num1+num2\n",
    "        print('addition')"
   ]
  },
  {
   "cell_type": "code",
   "execution_count": 32,
   "metadata": {},
   "outputs": [
    {
     "name": "stdout",
     "output_type": "stream",
     "text": [
      "enter the number1:2\n",
      "enter the number2:4\n",
      "addition\n"
     ]
    }
   ],
   "source": [
    "Mall.addition()"
   ]
  },
  {
   "cell_type": "code",
   "execution_count": null,
   "metadata": {},
   "outputs": [],
   "source": [
    "Requirement from a client who is from civil department, the client needs is calculate a area of Circle, Rectangle, Square.\n",
    "Create a Class which will find the area of circle, rectengle, square."
   ]
  }
 ],
 "metadata": {
  "kernelspec": {
   "display_name": "Python 3",
   "language": "python",
   "name": "python3"
  },
  "language_info": {
   "codemirror_mode": {
    "name": "ipython",
    "version": 3
   },
   "file_extension": ".py",
   "mimetype": "text/x-python",
   "name": "python",
   "nbconvert_exporter": "python",
   "pygments_lexer": "ipython3",
   "version": "3.7.4"
  }
 },
 "nbformat": 4,
 "nbformat_minor": 2
}
